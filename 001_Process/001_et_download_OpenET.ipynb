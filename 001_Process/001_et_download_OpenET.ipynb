{
 "cells": [
  {
   "cell_type": "code",
   "execution_count": null,
   "id": "d033d8e4-a26a-4331-98a2-bc6a2e62906f",
   "metadata": {},
   "outputs": [],
   "source": [
    "## Authenticate and initialise earth engine\n",
    "\n",
    "import ee\n",
    "\n",
    "# Initialize the Earth Engine Python API\n",
    "ee.Authenticate()\n",
    "ee.Initialize()"
   ]
  },
  {
   "cell_type": "code",
   "execution_count": null,
   "id": "3adb9446-cd14-40b6-9f2a-56cdc5ab2ac3",
   "metadata": {},
   "outputs": [],
   "source": [
    "## OpenET dataset on earth engine with desired variables\n",
    "\n",
    "## ET Datasets\n",
    "disALEXI = 'OpenET/DISALEXI/CONUS/GRIDMET/MONTHLY/v2_0', variable = 'et';\n",
    "eeMETRIC = 'OpenET/EEMETRIC/CONUS/GRIDMET/MONTHLY/v2_0', variable = 'et'; \n",
    "geeSEBAL = 'OpenET/GEESEBAL/CONUS/GRIDMET/MONTHLY/v2_0', variable = 'et'; \n",
    "PTJPL    = 'OpenET/PTJPL/CONUS/GRIDMET/MONTHLY/v2_0',    variable = 'et'; \n",
    "SIMS     = 'OpenET/SIMS/CONUS/GRIDMET/MONTHLY/v2_0',     variable = 'et'; \n",
    "SSEBOp   = 'OpenET/SSEBOP/CONUS/GRIDMET/MONTHLY/v2_0',   variable = 'et'; \n",
    "ENSEMBLE = 'OpenET/ENSEMBLE/CONUS/GRIDMET/MONTHLY/v2_0', variable = 'et_ensemble_mad'; \n"
   ]
  },
  {
   "cell_type": "code",
   "execution_count": 1,
   "id": "00f7e614-5bba-4bba-a895-4d67e5fce3f9",
   "metadata": {},
   "outputs": [
    {
     "name": "stdout",
     "output_type": "stream",
     "text": [
      "Size of combinedFeatureCollection 114872\n",
      "SSEBOP_ET_2016\n",
      "DISALEXI_ET_2016\n",
      "EEMETRIC_ET_2016\n",
      "GEESEBAL_ET_2016\n",
      "PTJPL_ET_2016\n",
      "SIMS_ET_2016\n"
     ]
    }
   ],
   "source": [
    "import ee\n",
    "\n",
    "# Uncomment to Authenticate and Initialize the Earth Engine Python API\n",
    "#ee.Authenticate()\n",
    "ee.Initialize()\n",
    "\n",
    "# Parameters\n",
    "filterdate = 2016\n",
    "startDate = ee.Date.fromYMD(filterdate, 1, 1)  # inclusive\n",
    "endDate = ee.Date.fromYMD(filterdate+1, 1, 1)  # exclusive\n",
    "# Feature Dataset\n",
    "combinedFeatureCollection = ee.FeatureCollection('projects/uom-project-0-1/assets/HPA_Irr_Croplands_2016')\n",
    "\n",
    "# Output some info\n",
    "print('Size of combinedFeatureCollection', combinedFeatureCollection.size().getInfo())\n",
    "\n",
    "# Subset of Polygons\n",
    "numberofPolygons = combinedFeatureCollection.size().getInfo()\n",
    "Sub_FeatureCollection = ee.FeatureCollection(combinedFeatureCollection.toList(numberofPolygons))\n",
    "\n",
    "# ET Datasets\n",
    "etDatasets = [\n",
    "    'OpenET/SSEBOP/CONUS/GRIDMET/MONTHLY/v2_0',\n",
    "    'OpenET/DISALEXI/CONUS/GRIDMET/MONTHLY/v2_0',\n",
    "    'OpenET/EEMETRIC/CONUS/GRIDMET/MONTHLY/v2_0',\n",
    "    'OpenET/GEESEBAL/CONUS/GRIDMET/MONTHLY/v2_0',\n",
    "    'OpenET/PTJPL/CONUS/GRIDMET/MONTHLY/v2_0',\n",
    "    'OpenET/SIMS/CONUS/GRIDMET/MONTHLY/v2_0'\n",
    "]\n",
    "\n",
    "def extract_feature(feature, dataset):\n",
    "    geom = feature.geometry()\n",
    "\n",
    "    def extract_image(image):\n",
    "        image = image.unmask()\n",
    "        obj = image.reduceRegion(combinedreducers, geom, 30)  # 90m\n",
    "        return feature.setMulti(obj)\n",
    "\n",
    "    return dataset.filterBounds(geom).map(extract_image)\n",
    "\n",
    "combinedreducers = ee.Reducer.mean().combine(\n",
    "    reducer2=ee.Reducer.stdDev(),\n",
    "    sharedInputs=True\n",
    ").combine(\n",
    "    reducer2=ee.Reducer.max(),\n",
    "    sharedInputs=True\n",
    ")\n",
    "\n",
    "for dataset in etDatasets:\n",
    "    # ET Dataset\n",
    "    et = ee.ImageCollection(dataset) \\\n",
    "        .filterDate(startDate, endDate) \\\n",
    "        .select('et')\n",
    "\n",
    "    Sub_FeatureCollection_et = Sub_FeatureCollection.map(lambda feature: extract_feature(feature, et)).flatten()\n",
    "    Sub_FeatureCollection_et = Sub_FeatureCollection_et.select(['.*'], None, False)\n",
    "\n",
    "    # Update system:index column\n",
    "    Sub_FeatureCollection_et = Sub_FeatureCollection_et.map(lambda feature: feature.set('system:index', ee.String(feature.get('system:index')).split('_').get(1)))\n",
    "\n",
    "    # Output configuration\n",
    "    #link = str(startDate.split('-')[-3] + '_' + endDate.split('-')[-3])\n",
    "    description = dataset.split('/')[1] + f'_ET_{filterdate}'\n",
    "    output_folder = '001_Project_Exports'\n",
    "    print(description)\n",
    "\n",
    "    # Export as CSV to Google Drive\n",
    "    task = ee.batch.Export.table.toDrive(\n",
    "        collection=Sub_FeatureCollection_et,\n",
    "        description=description,\n",
    "        folder=output_folder,\n",
    "        fileNamePrefix=description,\n",
    "        fileFormat='CSV'\n",
    "    )\n",
    "    task.start()"
   ]
  },
  {
   "cell_type": "code",
   "execution_count": null,
   "id": "f7effd25-6aa5-4771-a502-9bf9ca9d89fc",
   "metadata": {},
   "outputs": [],
   "source": []
  }
 ],
 "metadata": {
  "kernelspec": {
   "display_name": "GeoSpatial",
   "language": "python",
   "name": "geospatial"
  },
  "language_info": {
   "codemirror_mode": {
    "name": "ipython",
    "version": 3
   },
   "file_extension": ".py",
   "mimetype": "text/x-python",
   "name": "python",
   "nbconvert_exporter": "python",
   "pygments_lexer": "ipython3",
   "version": "3.10.10"
  }
 },
 "nbformat": 4,
 "nbformat_minor": 5
}
